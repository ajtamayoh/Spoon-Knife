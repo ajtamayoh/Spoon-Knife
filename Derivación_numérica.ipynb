{
  "nbformat": 4,
  "nbformat_minor": 0,
  "metadata": {
    "colab": {
      "name": "Derivación numérica.ipynb",
      "version": "0.3.2",
      "provenance": [],
      "include_colab_link": true
    },
    "language_info": {
      "codemirror_mode": {
        "name": "ipython",
        "version": 3
      },
      "file_extension": ".py",
      "mimetype": "text/x-python",
      "name": "python",
      "nbconvert_exporter": "python",
      "pygments_lexer": "ipython3",
      "version": "3.6.5"
    },
    "kernelspec": {
      "display_name": "Python 3",
      "language": "python",
      "name": "python3"
    }
  },
  "cells": [
    {
      "cell_type": "markdown",
      "metadata": {
        "id": "view-in-github",
        "colab_type": "text"
      },
      "source": [
        "<a href=\"https://colab.research.google.com/github/ajtamayoh/Spoon-Knife/blob/master/Derivaci%C3%B3n_num%C3%A9rica.ipynb\" target=\"_parent\"><img src=\"https://colab.research.google.com/assets/colab-badge.svg\" alt=\"Open In Colab\"/></a>"
      ]
    },
    {
      "metadata": {
        "id": "1A-cTxCNHFLM",
        "colab_type": "text"
      },
      "cell_type": "markdown",
      "source": [
        "## Derivación numérica\n",
        "\n",
        "### Ingeniería de Sistemas\n",
        "### Facultad de Ingeniería\n",
        "### Universidad de Medellín\n",
        "\n",
        "#### Prof. Antonio Tamayo Herrera\n",
        "\n",
        "#### 2019-1"
      ]
    },
    {
      "metadata": {
        "id": "WfaloL3AHFLO",
        "colab_type": "code",
        "colab": {}
      },
      "cell_type": "code",
      "source": [
        "import numpy as np\n",
        "\n",
        "#Para las funciones trigonométricas se deben trabajar los ángulos en radianas\n",
        "#si vamos a usar numpy\n",
        "\n",
        "def grade2rad(angulo):\n",
        "    return (angulo*np.pi)/180\n",
        "\n",
        "def dif_centradas(x,deltax,f):\n",
        "    derivada = (f(x+deltax/2)-f(x-deltax/2))/(deltax)\n",
        "    return derivada\n",
        "\n",
        "def dif_progres(x,deltax,f):\n",
        "    '''\n",
        "    cuando x está en el extremo izquierdo\n",
        "    '''\n",
        "    derivada = (f(x+deltax)-f(x))/(deltax)\n",
        "    return derivada\n",
        "\n",
        "def dif_regres(x,deltax,f):\n",
        "    '''\n",
        "    cuando x está en el extremo derecho\n",
        "    '''\n",
        "    derivada = (f(x)-f(x-deltax))/(deltax)\n",
        "    return derivada\n",
        "\n",
        "def f1(x):\n",
        "    return np.sin(x)\n",
        "\n",
        "def f2(x):\n",
        "    return x**2+2*x+3\n",
        "    \n",
        "angulo = 60 \n",
        "deltax = 1\n",
        "angrad = grade2rad(60)\n",
        "delta = grade2rad(1)\n",
        "\n",
        "#print(angrad)\n",
        "#print(np.cos(angrad))\n"
      ],
      "execution_count": 0,
      "outputs": []
    },
    {
      "metadata": {
        "id": "_UD0k5L9HFLW",
        "colab_type": "code",
        "outputId": "88fab580-35b3-4673-f1cc-8f35e5365aae",
        "colab": {
          "base_uri": "https://localhost:8080/",
          "height": 34
        }
      },
      "cell_type": "code",
      "source": [
        "der = dif_centradas(angrad,delta,f1)\n",
        "print('La derivada de f(x) = sen(x), evaluada en 60 grados, es: ', der)"
      ],
      "execution_count": 0,
      "outputs": [
        {
          "output_type": "stream",
          "text": [
            "La derivada de f(x) = sen(x), evaluada en 60 grados, es:  0.49999365382791566\n"
          ],
          "name": "stdout"
        }
      ]
    },
    {
      "metadata": {
        "id": "Szmr_yIpHFLh",
        "colab_type": "code",
        "outputId": "780063d6-701b-48b3-d2e8-c29efe2ef574",
        "colab": {
          "base_uri": "https://localhost:8080/",
          "height": 34
        }
      },
      "cell_type": "code",
      "source": [
        "der = dif_centradas(3,0.1,f2)\n",
        "print('La derivada de f(x) = x^2+2x+2, evaluada en 3, es: ', der)"
      ],
      "execution_count": 0,
      "outputs": [
        {
          "output_type": "stream",
          "text": [
            "La derivada de f(x) = x^2+2x+2, evaluada en 3, es:  7.999999999999972\n"
          ],
          "name": "stdout"
        }
      ]
    },
    {
      "metadata": {
        "id": "x-JhRB8iHFLo",
        "colab_type": "code",
        "outputId": "1b9a7ddc-d5ef-4254-e99d-ec39e0d49841",
        "colab": {
          "base_uri": "https://localhost:8080/",
          "height": 51
        }
      },
      "cell_type": "code",
      "source": [
        "der = dif_progres(angrad,delta,f1)\n",
        "print('Usando diferencias progresivas:')\n",
        "print('La derivada de f(x) = sen(x), evaluada en 60 grados, es: ', der)"
      ],
      "execution_count": 0,
      "outputs": [
        {
          "output_type": "stream",
          "text": [
            "Usando diferencias progresivas:\n",
            "La derivada de f(x) = sen(x), evaluada en 60 grados, es:  0.4924173100941682\n"
          ],
          "name": "stdout"
        }
      ]
    },
    {
      "metadata": {
        "id": "2T0_-dtgHFLu",
        "colab_type": "code",
        "outputId": "b52851ce-a657-406d-bad5-6c935bd4b9bf",
        "colab": {
          "base_uri": "https://localhost:8080/",
          "height": 51
        }
      },
      "cell_type": "code",
      "source": [
        "der = dif_regres(angrad,delta,f1)\n",
        "print('Usando diferencias regresivas:')\n",
        "print('La derivada de f(x) = sen(x), evaluada en 60 grados, es: ', der)"
      ],
      "execution_count": 0,
      "outputs": [
        {
          "output_type": "stream",
          "text": [
            "Usando diferencias regresivas:\n",
            "La derivada de f(x) = sen(x), evaluada en 60 grados, es:  0.5075319211091268\n"
          ],
          "name": "stdout"
        }
      ]
    },
    {
      "metadata": {
        "id": "k41OUUS-HFL7",
        "colab_type": "text"
      },
      "cell_type": "markdown",
      "source": [
        "### Ejercicio\n",
        "Calcular la derivada de $ f(x) = e^xcos(x) $ en el punto $x=\\frac{\\pi}{6}$, usando un $\\Delta x$ en la siguiente malla de valores: {10,8,6,4,2,1} en grados. \n",
        "\n",
        "Usando las tres opciones numéricas para calcular la derivada."
      ]
    },
    {
      "metadata": {
        "id": "VXJIGWzcHFL-",
        "colab_type": "code",
        "outputId": "2d618d2e-e580-49cd-93c0-5e72786589b7",
        "colab": {
          "base_uri": "https://localhost:8080/",
          "height": 51
        }
      },
      "cell_type": "code",
      "source": [
        "def f3(x):\n",
        "    return np.exp(x)*np.cos(x)\n",
        "\n",
        "#Convertimos la malla de valores de deltax a radianes\n",
        "\n",
        "angulo = np.pi/6\n",
        "#deltax = np.array([10,8,6,4,2,1])\n",
        "deltax = 1\n",
        "delta = grade2rad(deltax)\n",
        "print(delta)\n",
        "\n",
        "der = dif_centradas(angulo,delta,f3)\n",
        "print('La derivada de f(x) = e^xcos(x), evaluada en 30 grados, es: ', der)\n"
      ],
      "execution_count": 0,
      "outputs": [
        {
          "output_type": "stream",
          "text": [
            "0.017453292519943295\n",
            "La derivada de f(x) = e^xcos(x), evaluada en 30 grados, es:  0.6178259440457012\n"
          ],
          "name": "stdout"
        }
      ]
    },
    {
      "metadata": {
        "id": "74LkxqIBHFMO",
        "colab_type": "text"
      },
      "cell_type": "markdown",
      "source": [
        "### Derivación de tablas"
      ]
    },
    {
      "metadata": {
        "id": "7UkOVJ4CHFMR",
        "colab_type": "code",
        "outputId": "10a15e8e-b606-44d1-e136-96a4f2b1305d",
        "colab": {
          "base_uri": "https://localhost:8080/",
          "height": 34
        }
      },
      "cell_type": "code",
      "source": [
        "import sys\n",
        "\n",
        "#Para solucionar en el taller.\n",
        "\n",
        "def der_tabla(x,y,p,tipo):\n",
        "  '''\n",
        "  x: lista de puntos\n",
        "  y: lista de imagegnes de los puntos\n",
        "  p: punto donde se pide hallar la derivada\n",
        "  '''\n",
        "  \n",
        "  #Validación para usar dif_centradas\n",
        "  #if\n",
        "  \n",
        "  if tipo=='pro':\n",
        "    #Progresivas\n",
        "    i = 0\n",
        "    if p in x :\n",
        "      found = 0\n",
        "      for v in x:\n",
        "        #print(p,v)\n",
        "        if p==v:\n",
        "          if i != len(x)-1:\n",
        "            found = 1\n",
        "            continue\n",
        "          else:\n",
        "            print('No puede aplicar derivada progresiva en el extremo derecho de la tabla!')\n",
        "            sys.exit(0)\n",
        "        if found == 1:\n",
        "          delta = v-p\n",
        "          break\n",
        "        i += 1\n",
        "\n",
        "\n",
        "      #print(y[i+1], y[i])\n",
        "      der = (y[i+1]-y[i])/delta\n",
        "    \n",
        "  elif tipo=='reg':\n",
        "    #Regresivas\n",
        "    i = 0\n",
        "    if p in x :\n",
        "      for v in x:\n",
        "        #print(p,v)\n",
        "        if p==v:\n",
        "          if i!= 0:\n",
        "            delta = p-x[i-1]\n",
        "            break\n",
        "          else:\n",
        "            print('No puede aplicar derivada regresiva en el extremo izquierdo de la tabla!')\n",
        "            sys.exit(0)\n",
        "        i += 1\n",
        "\n",
        "\n",
        "      #print(y[i], y[i-1])\n",
        "      der = (y[i]-y[i-1])/delta\n",
        "    \n",
        "  elif tipo=='cen':\n",
        "    print('TODO')\n",
        "\n",
        "    \n",
        "    \n",
        "  return der\n",
        "  \n",
        "  \n",
        "x = [0,1,2,3,5,7,8]\n",
        "y = [0,1,4,9,25,49,64]\n",
        "p = 7\n",
        "tipo = 'reg'\n",
        "derivada = der_tabla(x,y,p,tipo)\n",
        "print('La derivada en ', p, ' usando ', tipo, ' es: ', derivada)\n",
        "        \n",
        "  "
      ],
      "execution_count": 14,
      "outputs": [
        {
          "output_type": "stream",
          "text": [
            "La derivada en  7  usando  reg  es:  12.0\n"
          ],
          "name": "stdout"
        }
      ]
    },
    {
      "metadata": {
        "id": "Vgvuaayij-Wb",
        "colab_type": "text"
      },
      "cell_type": "markdown",
      "source": [
        "# **Taller de derivación numérica**\n",
        "\n",
        "Ejercicios\n",
        "\n",
        "Para la siguiente función, encuentre:\n",
        "\n",
        "\n",
        "1. La gráfica\n",
        "2. Encontrar la derivada de la función en $z=1$:\n",
        "\n",
        "$$f(z) = \\frac{1}{1+e^-z}$$\n",
        "\n",
        "Use las tres formas de derivación vistas en el curso y use un $\\Delta z = 0.001$"
      ]
    },
    {
      "metadata": {
        "id": "931BFfejkvfe",
        "colab_type": "code",
        "outputId": "2bb161ba-df44-4c6f-cd5a-61a853b1b183",
        "colab": {
          "base_uri": "https://localhost:8080/",
          "height": 337
        }
      },
      "cell_type": "code",
      "source": [
        "import matplotlib.pyplot as plt\n",
        "\n",
        "def sigmoidal(z):\n",
        "  return 1/(1+np.exp(-z))\n",
        "\n",
        "def derSig(x):\n",
        "  return sigmoidal(x)*(1-sigmoidal(x))\n",
        "\n",
        "\n",
        "z = np.linspace(-5,5,1000)\n",
        "plt.plot(z,sigmoidal(z))\n",
        "plt.show()\n",
        "\n",
        "print('La derivada (teórica) en 1 es: ', derSig(1))\n",
        "print('La derivada con dif. centradas en 1 y delta x = 0.001 es: ', dif_centradas(1,0.001,sigmoidal))\n",
        "print('La derivada con dif. progresivas en 1 y delta x = 0.001 es: ', dif_progres(1,0.001,sigmoidal))\n",
        "print('La derivada con dif. retresivas en 1 y delta x = 0.001 es: ', dif_regres(1,0.001,sigmoidal))\n"
      ],
      "execution_count": 0,
      "outputs": [
        {
          "output_type": "display_data",
          "data": {
            "image/png": "[encoded data removed]",
            "text/plain": [
              "<Figure size 432x288 with 1 Axes>"
            ]
          },
          "metadata": {
            "tags": []
          }
        },
        {
          "output_type": "stream",
          "text": [
            "La derivada (teórica) en 1 es:  0.19661193324148185\n",
            "La derivada con dif. centradas en 1 y delta x = 0.001 es:  0.1966119317695636\n",
            "La derivada con dif. progresivas en 1 y delta x = 0.001 es:  0.1965664984852067\n",
            "La derivada con dif. retresivas en 1 y delta x = 0.001 es:  0.19665735622254044\n"
          ],
          "name": "stdout"
        }
      ]
    }
  ]
}