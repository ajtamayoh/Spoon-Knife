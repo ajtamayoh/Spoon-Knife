{
  "nbformat": 4,
  "nbformat_minor": 0,
  "metadata": {
    "colab": {
      "name": "Integracion numérica.ipynb",
      "version": "0.3.2",
      "provenance": [],
      "collapsed_sections": [],
      "include_colab_link": true
    },
    "language_info": {
      "codemirror_mode": {
        "name": "ipython",
        "version": 3
      },
      "file_extension": ".py",
      "mimetype": "text/x-python",
      "name": "python",
      "nbconvert_exporter": "python",
      "pygments_lexer": "ipython3",
      "version": "3.6.5"
    },
    "kernelspec": {
      "name": "python3",
      "display_name": "Python 3"
    },
    "accelerator": "GPU"
  },
  "cells": [
    {
      "cell_type": "markdown",
      "metadata": {
        "id": "view-in-github",
        "colab_type": "text"
      },
      "source": [
        "<a href=\"https://colab.research.google.com/github/ajtamayoh/Spoon-Knife/blob/master/Integracion_num%C3%A9rica.ipynb\" target=\"_parent\"><img src=\"https://colab.research.google.com/assets/colab-badge.svg\" alt=\"Open In Colab\"/></a>"
      ]
    },
    {
      "metadata": {
        "id": "wNy59-RFHCdG",
        "colab_type": "text"
      },
      "cell_type": "markdown",
      "source": [
        "## Integración numérica\n",
        "\n",
        "### Regla del Trapecio, regla de Simpson 1/3 y regla de simpson 3/8\n",
        "\n",
        "\n",
        "### Ingeniería de Sistemas\n",
        "### Facultad de Ingeniería\n",
        "### Universidad de Medellín\n",
        "#### 2019-1\n",
        "\n",
        "##### Prof. Antonio Tamayo Herrera\n"
      ]
    },
    {
      "metadata": {
        "id": "Dd8i7jf4HCdI",
        "colab_type": "code",
        "outputId": "2a96d2e7-f72f-47c6-a5e1-e7dd4edab380",
        "colab": {
          "base_uri": "https://localhost:8080/",
          "height": 623
        }
      },
      "cell_type": "code",
      "source": [
        "import numpy as np\n",
        "import matplotlib.pyplot as plt\n",
        "\n",
        "def integrar_trapecio(a,b,f):\n",
        "    I = (b-a)*((f(b)+f(a))/2)\n",
        "    return I\n",
        "\n",
        "def f1(x):\n",
        "    return x**2\n",
        "\n",
        "def f2(x):\n",
        "    return 0.2+25*x-200*x**2+675*x**3-900*x**4+400*x**5\n",
        "\n",
        "x = np.linspace(0,2,100)\n",
        "plt.plot(x,f1(x))\n",
        "plt.show()\n",
        "\n",
        "x1=np.linspace(0,0.8,100)\n",
        "plt.plot(x1,f2(x1))\n",
        "plt.show()\n",
        "\n",
        "#Analiticamente\n",
        "\n",
        "print(\"Resultado analitico: \")\n",
        "print((1/3)*2**3 - (1/3)*1**3)\n",
        "\n",
        "print(\"Resultado con el método del trapecio para la cuadrática: \")\n",
        "print(integrar_trapecio(1,2,f1))\n",
        "\n",
        "print(\"Resultado con el método del trapecio para la polinomial: \")\n",
        "print(integrar_trapecio(0,0.8,f2))"
      ],
      "execution_count": 0,
      "outputs": [
        {
          "output_type": "display_data",
          "data": {
            "image/png": "[encoded data removed]",
            "text/plain": [
              "<Figure size 432x288 with 1 Axes>"
            ]
          },
          "metadata": {
            "tags": []
          }
        },
        {
          "output_type": "display_data",
          "data": {
            "image/png": "[encoded data removed]",
            "text/plain": [
              "<Figure size 432x288 with 1 Axes>"
            ]
          },
          "metadata": {
            "tags": []
          }
        },
        {
          "output_type": "stream",
          "text": [
            "Resultado analitico: \n",
            "2.333333333333333\n",
            "Resultado con el método del trapecio para la cuadrática: \n",
            "2.5\n",
            "Resultado con el método del trapecio para la polinomial: \n",
            "0.1728000000000225\n"
          ],
          "name": "stdout"
        }
      ]
    },
    {
      "metadata": {
        "id": "mk4V7EL_HCdT",
        "colab_type": "text"
      },
      "cell_type": "markdown",
      "source": [
        "### Regla del trapecio de aplicación múltiple"
      ]
    },
    {
      "metadata": {
        "id": "DM5GKlotHCdU",
        "colab_type": "code",
        "colab": {}
      },
      "cell_type": "code",
      "source": [
        "def errorRel(val_nuevo, val_ant):\n",
        "    '''\n",
        "    Este método recibe dos aproximaciones de raíces\n",
        "    y retorna el error relativo porcentual. Requiere\n",
        "    del cálculo de las dos primeras raíces.\n",
        "    '''\n",
        "    error = abs((val_nuevo-val_ant)/val_nuevo)*100\n",
        "    return error"
      ],
      "execution_count": 0,
      "outputs": []
    },
    {
      "metadata": {
        "id": "BMKw2UCUHCda",
        "colab_type": "code",
        "colab": {}
      },
      "cell_type": "code",
      "source": [
        "def trapecio_multiple(x, funcion):\n",
        "    '''\n",
        "    x debe ser una lista de puntos\n",
        "    f es la función que se requiere integrar\n",
        "    '''\n",
        "    #determinamos n\n",
        "    n = len(x)-1\n",
        "    #determinamos h\n",
        "    #Recordar que a=x0; b=xn; h=(b-a)/n\n",
        "    h = (x[-1]-x[0])/n \n",
        "    \n",
        "    #Calculando el término central de la sumatoria\n",
        "    x_centrales = x[1:-1]\n",
        "    fx_centrales = funcion(x_centrales)\n",
        "    term = 2*sum(fx_centrales)\n",
        "    \n",
        "    #Calculamos la integral\n",
        "    I = (h/2)*(funcion(x[0])+term+funcion(x[-1]))\n",
        "    \n",
        "    return I"
      ],
      "execution_count": 0,
      "outputs": []
    },
    {
      "metadata": {
        "id": "9A92ahMlHCdh",
        "colab_type": "text"
      },
      "cell_type": "markdown",
      "source": [
        "#### Resolviendo la integral:\n",
        "\n",
        "$$ \\int_{0}^{0.8} 0.2+25x-200x^2+675x^3-900x^4+400x^5dx $$\n",
        "\n",
        "Por el método numérico del trapecio de aplicación múltiple. Pruebe con 3,6,11,21,31,101 y 501 puntos."
      ]
    },
    {
      "metadata": {
        "id": "jh4DOOSAHCdi",
        "colab_type": "code",
        "outputId": "ebe7efd0-092a-4c7c-c42f-b1d515b6c10b",
        "colab": {
          "base_uri": "https://localhost:8080/",
          "height": 221
        }
      },
      "cell_type": "code",
      "source": [
        "p = [3,6,11,21,31,101,501]\n",
        "\n",
        "it = 0\n",
        "nuevo = 0\n",
        "ant = 0\n",
        "for i in p:\n",
        "    x = np.linspace(0,0.8,i)\n",
        "    Integral = trapecio_multiple(x,f2)\n",
        "    nuevo = Integral\n",
        "    if it > 1:\n",
        "        error = errorRel(nuevo, anterior)\n",
        "        print('El error en el cálculo de la integral es: ', round(error, 2), '%')\n",
        "    anterior = nuevo\n",
        "    it += 1\n",
        "    print('El resulado de la integral de f(x)=x^2 entre a=0 y b=0.8 con n =',i-1, ', es: ', round(Integral,6))"
      ],
      "execution_count": 0,
      "outputs": [
        {
          "output_type": "stream",
          "text": [
            "El resulado de la integral de f(x)=x^2 entre a=0 y b=0.8 con n = 2 , es:  1.0688\n",
            "El resulado de la integral de f(x)=x^2 entre a=0 y b=0.8 con n = 5 , es:  1.539881\n",
            "El error en el cálculo de la integral es:  4.65 %\n",
            "El resulado de la integral de f(x)=x^2 entre a=0 y b=0.8 con n = 10 , es:  1.615043\n",
            "El error en el cálculo de la integral es:  1.17 %\n",
            "El resulado de la integral de f(x)=x^2 entre a=0 y b=0.8 con n = 20 , es:  1.63414\n",
            "El error en el cálculo de la integral es:  0.22 %\n",
            "El resulado de la integral de f(x)=x^2 entre a=0 y b=0.8 con n = 30 , es:  1.63769\n",
            "El error en el cálculo de la integral es:  0.16 %\n",
            "El resulado de la integral de f(x)=x^2 entre a=0 y b=0.8 con n = 100 , es:  1.640277\n",
            "El error en el cálculo de la integral es:  0.01 %\n",
            "El resulado de la integral de f(x)=x^2 entre a=0 y b=0.8 con n = 500 , es:  1.640523\n"
          ],
          "name": "stdout"
        }
      ]
    },
    {
      "metadata": {
        "id": "dA7hi6zIHCdp",
        "colab_type": "text"
      },
      "cell_type": "markdown",
      "source": [
        "#### Resolviendo la integral:\n",
        "\n",
        "$$ \\int_{0}^{2} x^2dx $$\n",
        "\n",
        "Por el método numérico del trapecio de aplicación múltiple. Pruebe con 2,4,6 y 10 puntos."
      ]
    },
    {
      "metadata": {
        "id": "0TShiwukHCdq",
        "colab_type": "code",
        "outputId": "fbbc5118-e0df-4b62-dbce-5a2031303c30",
        "colab": {
          "base_uri": "https://localhost:8080/",
          "height": 119
        }
      },
      "cell_type": "code",
      "source": [
        "p = [11,31,101,501]\n",
        "it = 0\n",
        "nuevo = 0\n",
        "ant = 0\n",
        "for i in p:\n",
        "    x = np.linspace(1,2,i)\n",
        "    Integral = trapecio_multiple(x,f1)\n",
        "    nuevo = Integral\n",
        "    if it > 1:\n",
        "        error = errorRel(nuevo, anterior)\n",
        "        print('El error en el cálculo de la integral es: ', round(error, 2), '%')\n",
        "    anterior = nuevo\n",
        "    it += 1\n",
        "    print('El resulado de la integral de f(x)=x^2 entre a=0 y b=2 con n =',i-1, ', es: ', round(Integral,6))"
      ],
      "execution_count": 0,
      "outputs": [
        {
          "output_type": "stream",
          "text": [
            "El resulado de la integral de f(x)=x^2 entre a=0 y b=2 con n = 10 , es:  2.335\n",
            "El resulado de la integral de f(x)=x^2 entre a=0 y b=2 con n = 30 , es:  2.333519\n",
            "El error en el cálculo de la integral es:  0.01 %\n",
            "El resulado de la integral de f(x)=x^2 entre a=0 y b=2 con n = 100 , es:  2.33335\n",
            "El error en el cálculo de la integral es:  0.0 %\n",
            "El resulado de la integral de f(x)=x^2 entre a=0 y b=2 con n = 500 , es:  2.333334\n"
          ],
          "name": "stdout"
        }
      ]
    },
    {
      "metadata": {
        "id": "nbwK43qMHCdw",
        "colab_type": "text"
      },
      "cell_type": "markdown",
      "source": [
        "### Ejercicio 1\n",
        "\n",
        "Dada la siguiente integral:\n",
        "\n",
        "$$ \\int_{1}^{2} 2x^3sen(x^2)  dx $$\n",
        "\n",
        "- Graficar la función entre los límites de integración dados.\n",
        "- Calcular analíticamente la integral (¿Recuerda alguna forma? ¿Se ve posible por los métodos vistos en cálculo?)\n",
        "- Calcular la integral numericamente usando la regla del trapecio de aplicación multiple.\n",
        "- usar un n en la siguiente malla de valores [2,3,5,7,10,50] y decir cuál es el error relativo porcentual"
      ]
    },
    {
      "metadata": {
        "id": "9kclfzxGHCdx",
        "colab_type": "code",
        "outputId": "8b1ef64f-4f85-4f4d-9ef2-0e7ca059fb1d",
        "colab": {
          "base_uri": "https://localhost:8080/",
          "height": 269
        }
      },
      "cell_type": "code",
      "source": [
        "def fun(x):\n",
        "    return (2*x**3)*np.sin(x**2)\n",
        "\n",
        "x = np.linspace(1,2,11)\n",
        "\n",
        "plt.plot(x,fun(x))\n",
        "plt.show()\n"
      ],
      "execution_count": 0,
      "outputs": [
        {
          "output_type": "display_data",
          "data": {
            "image/png": "[encoded data removed]",
            "text/plain": [
              "<Figure size 432x288 with 1 Axes>"
            ]
          },
          "metadata": {
            "tags": []
          }
        }
      ]
    },
    {
      "metadata": {
        "id": "ioZtu3VeHCd3",
        "colab_type": "code",
        "outputId": "dfa0ec43-0d7c-46d8-9cc7-95902ced9668",
        "colab": {
          "base_uri": "https://localhost:8080/",
          "height": 187
        }
      },
      "cell_type": "code",
      "source": [
        "p = [2,3,5,7,10,50]\n",
        "it = 0\n",
        "nuevo = 0\n",
        "ant = 0\n",
        "for i in p:\n",
        "    x = np.linspace(1,2,i)\n",
        "    Integral = trapecio_multiple(x,fun)\n",
        "    nuevo = Integral\n",
        "    if it > 1:\n",
        "        error = errorRel(nuevo, anterior)\n",
        "        print('El error en el cálculo de la integral es: ', round(error, 2), '%')\n",
        "    anterior = nuevo\n",
        "    it += 1\n",
        "    print('El resulado de la integral con n =',i-1, ', es: ', round(Integral,6))"
      ],
      "execution_count": 0,
      "outputs": [
        {
          "output_type": "stream",
          "text": [
            "El resulado de la integral con n = 1 , es:  -5.212949\n",
            "El resulado de la integral con n = 2 , es:  0.019523\n",
            "El error en el cálculo de la integral es:  98.37 %\n",
            "El resulado de la integral con n = 4 , es:  1.198013\n",
            "El error en el cálculo de la integral es:  14.39 %\n",
            "El resulado de la integral con n = 6 , es:  1.399351\n",
            "El error en el cálculo de la integral es:  5.9 %\n",
            "El resulado de la integral con n = 9 , es:  1.48713\n",
            "El error en el cálculo de la integral es:  4.32 %\n",
            "El resulado de la integral con n = 49 , es:  1.55427\n"
          ],
          "name": "stdout"
        }
      ]
    },
    {
      "metadata": {
        "id": "4XPZsG3HHCd9",
        "colab_type": "text"
      },
      "cell_type": "markdown",
      "source": [
        "### Ejercicio 2\n",
        "\n",
        "Dada la siguiente tabla de puntos:\n",
        "<table>\n",
        "    <tr>\n",
        "        <td><b>x</b></td><td><b>f(x)</b><td>\n",
        "    </tr>\n",
        "    <tr>\n",
        "        <td>1</td><td>1</td>\n",
        "    </tr>\n",
        "         <td>2</td><td>2</td>\n",
        "    <tr>    \n",
        "        <td>3</td><td>5</td>\n",
        "    </tr>    \n",
        "    <tr>    \n",
        "        <td>4</td><td>8</td>\n",
        "    </tr>    \n",
        "    <tr>    \n",
        "        <td>5</td><td>12</td>\n",
        "    </tr>    \n",
        "    <tr>    \n",
        "        <td>6</td><td>17</td>\n",
        "    </tr>\n",
        "</table>\n",
        "\n",
        "- Grafique la aproximación de la función desconocida $f(x)$.\n",
        "- Usando el método del trapecio de aplicación múltiple calcule el área bajo la curva, entre 1 y 6.\n",
        "- usar un n en la siguiente malla de valores [1,2,3,4,5] y decir cuál es el error relativo porcentual"
      ]
    },
    {
      "metadata": {
        "id": "HGHM6pojHCd_",
        "colab_type": "code",
        "outputId": "d6804068-713a-4142-bec4-d4292a829bd2",
        "colab": {
          "base_uri": "https://localhost:8080/",
          "height": 269
        }
      },
      "cell_type": "code",
      "source": [
        "#Graficamente\n",
        "x = [1,2,3,4,5,6]\n",
        "fx = [1,2,5,8,12,17]\n",
        "\n",
        "plt.plot(x,fx)\n",
        "plt.show()"
      ],
      "execution_count": 0,
      "outputs": [
        {
          "output_type": "display_data",
          "data": {
            "image/png": "[encoded data removed]",
            "text/plain": [
              "<Figure size 432x288 with 1 Axes>"
            ]
          },
          "metadata": {
            "tags": []
          }
        }
      ]
    },
    {
      "metadata": {
        "id": "sShl4cheHCeM",
        "colab_type": "code",
        "colab": {}
      },
      "cell_type": "code",
      "source": [
        "def trapecio_multiple2(x, y):\n",
        "    '''\n",
        "    x debe ser una lista de puntos\n",
        "    y es la lista de puntos (imagen) de x\n",
        "    '''\n",
        "    #determinamos n\n",
        "    n = len(x)-1\n",
        "    #determinamos h\n",
        "    #Recordar que a=x0; b=xn; h=(b-a)/n\n",
        "    h = (x[-1]-x[0])/n \n",
        "    \n",
        "    #Calculando el término central de la sumatoria\n",
        "    x_centrales = x[1:-1]\n",
        "    fx_centrales = y[1:-1]\n",
        "    term = 2*sum(fx_centrales)\n",
        "    \n",
        "    #Calculamos la integral\n",
        "    I = (h/2)*(y[0]+term+y[-1])\n",
        "    \n",
        "    return I"
      ],
      "execution_count": 0,
      "outputs": []
    },
    {
      "metadata": {
        "id": "uDu4prz9HCeU",
        "colab_type": "code",
        "outputId": "afe566e0-cd54-44cb-8b68-7df469f3f581",
        "colab": {
          "base_uri": "https://localhost:8080/",
          "height": 119
        }
      },
      "cell_type": "code",
      "source": [
        "p = [2,3,4,5]\n",
        "it = 0\n",
        "nuevo = 0\n",
        "ant = 0\n",
        "for i in p:\n",
        "    x = [1,2,3,4,5,6]\n",
        "    fx = [1,2,5,8,12,17]\n",
        "    x=x[0:i+1]\n",
        "    fx=fx[0:i+1]\n",
        "    Integral = trapecio_multiple2(x,fx)\n",
        "    nuevo = Integral\n",
        "    if it > 1:\n",
        "        error = errorRel(nuevo, anterior)\n",
        "        print('El error en el cálculo de la integral es: ', round(error, 2), '%')\n",
        "    anterior = nuevo\n",
        "    it += 1\n",
        "    print('El resulado de la integral con n =',i-1, ', es: ', round(Integral,6))"
      ],
      "execution_count": 0,
      "outputs": [
        {
          "output_type": "stream",
          "text": [
            "El resulado de la integral con n = 1 , es:  5.0\n",
            "El resulado de la integral con n = 2 , es:  11.5\n",
            "El error en el cálculo de la integral es:  46.51 %\n",
            "El resulado de la integral con n = 3 , es:  21.5\n",
            "El error en el cálculo de la integral es:  40.28 %\n",
            "El resulado de la integral con n = 4 , es:  36.0\n"
          ],
          "name": "stdout"
        }
      ]
    },
    {
      "metadata": {
        "id": "hGLyRQP2HCeb",
        "colab_type": "text"
      },
      "cell_type": "markdown",
      "source": [
        "### Regla de Simpson 1/3"
      ]
    },
    {
      "metadata": {
        "id": "UxJ9m62cHCed",
        "colab_type": "text"
      },
      "cell_type": "markdown",
      "source": [
        "Se consigue al reemplazar la función a integrar por un polinomio de Lagrange de segundo orden, por lo tanto, se necesitan mínimo 3 puntos y siempre será aplicable para un número de segmentos $n$ que sea par.\n",
        "\n",
        "Su forma es:\n",
        "\n",
        "$$ I \\approx \\frac{h}{3}(f(x_0) + 4f(x_1)+f(x_2)) $$\n",
        "\n",
        "Donde,\n",
        "\n",
        "$$h = \\frac{b-a}{2}$$"
      ]
    },
    {
      "metadata": {
        "id": "E62Y5MH4HCee",
        "colab_type": "code",
        "colab": {}
      },
      "cell_type": "code",
      "source": [
        "def Simpson1_3(a,b,f):\n",
        "    h = (b-a)/2\n",
        "    I = (h/3)*((f(a) + 4*f(a+((b-a)/2)) + f(b)))\n",
        "    return I"
      ],
      "execution_count": 0,
      "outputs": []
    },
    {
      "metadata": {
        "id": "Idiz0xvTHCej",
        "colab_type": "code",
        "outputId": "c702a692-d65e-43a5-b25b-69140b99b9c2",
        "colab": {
          "base_uri": "https://localhost:8080/",
          "height": 34
        }
      },
      "cell_type": "code",
      "source": [
        "I = Simpson1_3(0,0.8,f2)\n",
        "print('La integral de la función polinómica, usando Simpson 1/3 es: ', I)"
      ],
      "execution_count": 0,
      "outputs": [
        {
          "output_type": "stream",
          "text": [
            "La integral de la función polinómica, usando Simpson 1/3 es:  1.3674666666666742\n"
          ],
          "name": "stdout"
        }
      ]
    },
    {
      "metadata": {
        "id": "ENRRpkziHCer",
        "colab_type": "text"
      },
      "cell_type": "markdown",
      "source": [
        "Recordar que el valor teórico es: 1.640533"
      ]
    },
    {
      "metadata": {
        "id": "dp64uU84HCet",
        "colab_type": "text"
      },
      "cell_type": "markdown",
      "source": [
        "### Regla de Simpson 1/3 de aplicación múltiple"
      ]
    },
    {
      "metadata": {
        "id": "sHH3dgWVHCeu",
        "colab_type": "text"
      },
      "cell_type": "markdown",
      "source": [
        "Así como la regla del trapecio, la regra de Simpson se mejora al dividir el intervalo en segmentos igualmente espaciados.\n",
        "\n",
        "$h = \\frac{(b-a)}{n}$\n",
        "\n",
        "La integral se puede representar como:\n",
        "\n",
        "$$ \\int_{x_0}^{x_2} f(x)dx + \\int_{x_2}^{x_4} f(x)dx  + ... + \\int_{x_{n-2}}^{x_n} f(x)dx$$\n",
        "\n",
        "Si se sustituye la regla de Simpson 1/3 en cada integral, se obtiene:\n",
        "\n",
        "$$ I \\approx 2h \\frac{f(x_0) + 4f(x_1)+f(x_2)}{6} + 2h \\frac{f(x_2) + 4f(x_3)+f(x_4)}{6} + ... + 2h \\frac{f(x_{n-2}) + 4f(x_{n-1})+f(x_n)}{6}$$\n",
        "\n",
        "o\n",
        "\n",
        "$$ I \\approx (b-a)\\frac{f(x_0)+4\\sum_{i=1,3,5...}^{n-1}f(x_i)+2\\sum_{j=2,4,6...}^{n-2}f(x_j)+f(x_n)}{3n} $$\n",
        "\n",
        "Importante: Observe que se deben usar un número par de segmentos para poder aplicar el método."
      ]
    },
    {
      "metadata": {
        "id": "OJN_CSBaHCey",
        "colab_type": "text"
      },
      "cell_type": "markdown",
      "source": [
        "### Ejericio de clase: \n",
        "\n",
        "Resuelva manualmente la integral de la función polinómica planteada con la regla Simpson 1/3."
      ]
    },
    {
      "metadata": {
        "id": "iKbfYh7QHCez",
        "colab_type": "text"
      },
      "cell_type": "markdown",
      "source": [
        "### Ejericio de clase: \n",
        "\n",
        "Escriba un programa para la regla de Simpson 1/3 y resuelva la integral de la función polinómica planteada. Compare el resultado con el encontrado manualmente."
      ]
    },
    {
      "metadata": {
        "id": "WPBRdWG_HCe0",
        "colab_type": "code",
        "colab": {}
      },
      "cell_type": "code",
      "source": [
        "def Simpson_1_3_multiple(a, b, n, funcion):\n",
        "    '''\n",
        "    a: límite inferior de la integral\n",
        "    b: límite superior de la integral\n",
        "    n: número de segmentos\n",
        "    f es la función que se requiere integrar\n",
        "    '''\n",
        "    \n",
        "    h = (b-a)/n \n",
        "    \n",
        "    #Se genera el vector de puntos x\n",
        "    x = np.linspace(a,b,n+1)\n",
        "    \n",
        "    #Calculando los términos centrales (sumatorias)\n",
        "    x_centrales = x[1:-1]\n",
        "    term1 = 0\n",
        "    term2 = 0\n",
        "    k = 0\n",
        "    for i in x_centrales:\n",
        "        if k%2 == 0:\n",
        "            term1 += funcion(i)\n",
        "        k+=1\n",
        "    w = 0\n",
        "    for i in x_centrales[:-1]:\n",
        "        if w%2 != 0:\n",
        "            term2 += funcion(i)\n",
        "        w+=1\n",
        "    \n",
        "    term1 = 4*term1\n",
        "    term2 = 2*term2\n",
        "    \n",
        "    #Calculamos la integral\n",
        "    I = (b-a)*((funcion(a)+term1+term2+funcion(b))/(3*n))\n",
        "    \n",
        "    return I"
      ],
      "execution_count": 0,
      "outputs": []
    },
    {
      "metadata": {
        "id": "C5Y5b9CsHCe9",
        "colab_type": "code",
        "outputId": "7806c21e-c68e-48d7-cac5-6d8981ae283c",
        "colab": {
          "base_uri": "https://localhost:8080/",
          "height": 34
        }
      },
      "cell_type": "code",
      "source": [
        "I = Simpson_1_3_multiple(0,0.8,4,f2)\n",
        "print('La integral de la función polinómica aplicando Simpson 1/3 múltiple es: ',I)"
      ],
      "execution_count": 0,
      "outputs": [
        {
          "output_type": "stream",
          "text": [
            "La integral de la función polinómica aplicando Simpson 1/3 múltiple es:  1.6234666666666717\n"
          ],
          "name": "stdout"
        }
      ]
    },
    {
      "metadata": {
        "id": "fQPhZrpfHCfG",
        "colab_type": "text"
      },
      "cell_type": "markdown",
      "source": [
        "### Regla de Simpson 3/8\n",
        "\n",
        "De manera simular a la obtención de la regla del trapecio y de Simpson 1/3, es posible ajustar un polinomio de Lagrange de tercer grado a cuatro puntos e integrarlo.\n",
        "\n",
        "$$ I = \\int_{a}^{b}f(x)dx \\approx \\int_{a}^{b}f_3(x)dx $$\n",
        "\n",
        "Al resolver la integral se obtiene:\n",
        "\n",
        "$$ I \\approx \\frac{3h}{8}[f(x_0)+ 3f(x_1)+3f(x_2)+f(x_3)] $$\n",
        "\n",
        "Donde, \n",
        "\n",
        "$$ h = \\frac{b-a}{3} $$\n",
        "\n",
        "o, reescribiendo la ecuación, se tiene:\n",
        "\n",
        "$$ I \\approx (b-a)\\frac{[f(x_0)+ 3f(x_1)+3f(x_2)+f(x_3)]}{8} $$\n",
        "\n",
        "En general se usa Simpson 1/3, pero Simpson 3/8 es útil cuando se tiene un número impar de segmentos."
      ]
    },
    {
      "metadata": {
        "id": "IgJisHK3HCfK",
        "colab_type": "text"
      },
      "cell_type": "markdown",
      "source": [
        "### Ejercicio:\n",
        "\n",
        "Resuelva la integral polinómica planteada por la regla de Simpson 3/8, manualmente y luego escriba el código para este método."
      ]
    },
    {
      "metadata": {
        "id": "xPdXP2dbHCfO",
        "colab_type": "text"
      },
      "cell_type": "markdown",
      "source": [
        "### Ejercicio:\n",
        "\n",
        "Resuelva la integral polinómica planteada combinando la regla de Simpson 1/3 con la regla de Simpson 3/8, manualmente, usando 6 puntos (5 segmentos, # impar) y luego usando los códigos ya creados y compare los resultados encontrados."
      ]
    },
    {
      "metadata": {
        "id": "x8s6IbaNHCfS",
        "colab_type": "code",
        "colab": {}
      },
      "cell_type": "code",
      "source": [
        "def Simpson_3_8(a,b,n,f):\n",
        "    '''\n",
        "    n: número de segmentos\n",
        "    '''\n",
        "    x = np.linspace(a,b,n+1)\n",
        "    h = (b-a)/3\n",
        "    I = ((3*h)/8)*(f(a) + 3*f(x[1]) + 3*f(x[2]) + f(b))\n",
        "    return I"
      ],
      "execution_count": 0,
      "outputs": []
    },
    {
      "metadata": {
        "id": "ih8qY8J-HCfX",
        "colab_type": "code",
        "outputId": "893e51db-faf6-40df-fa34-89bfee2e7e78",
        "colab": {
          "base_uri": "https://localhost:8080/",
          "height": 34
        }
      },
      "cell_type": "code",
      "source": [
        "I = Simpson_3_8(0,0.8,3,f2)\n",
        "print(I)"
      ],
      "execution_count": 0,
      "outputs": [
        {
          "output_type": "stream",
          "text": [
            "1.519170370370378\n"
          ],
          "name": "stdout"
        }
      ]
    },
    {
      "metadata": {
        "id": "MP5pS_dcN1cd",
        "colab_type": "text"
      },
      "cell_type": "markdown",
      "source": [
        "# **Taller de integración numérica**\n",
        "\n",
        "1. Grafique e integre numéricamente la siguiente función. Para evaluaciones numéricas use:\n",
        "\n",
        "a. Una sola aplicación de la regla del trapecio\n",
        "\n",
        "b. Trapecio múltiple con 4 segmentos (numéricamente pruebe para n = {10,100,500 y 1000})\n",
        "\n",
        "c. La regla de Simpson 1/3 simple.\n",
        "\n",
        "d. La regla de Simpson 1/3 múltiple con n = 4. (numéricamente pruebe para n = {10,100})\n",
        "\n",
        "e. La regla de Simpson 3/8.\n",
        "\n",
        "nota 1: los cálculos los debe realizar manualmente en todos los casos y luego ejecutar los algoritmos desarrollados en Python para comprobar sus respuestas.\n",
        "\n",
        "nota 2: calcule los errores relativos porcentuales para las soluciones numéricas\n",
        "\n",
        "$$ \\int _{0.5}^{1.5}14^{2x}dx $$"
      ]
    },
    {
      "metadata": {
        "id": "u_2zZF0KHCfe",
        "colab_type": "code",
        "outputId": "023d3a50-debf-4c8e-e93e-077ee43bfcd7",
        "colab": {
          "base_uri": "https://localhost:8080/",
          "height": 269
        }
      },
      "cell_type": "code",
      "source": [
        "def funcion(x):\n",
        "  return 14**(2*x)\n",
        "\n",
        "x = np.linspace(0.5,1.5,100)\n",
        "y = funcion(x)\n",
        "x1 = [0.5,1.5]\n",
        "y1 = [funcion(x1[0]),funcion(x1[1])]\n",
        "plt.plot(x,y,'b')\n",
        "plt.plot(x1,y1,'r')\n",
        "plt.show()"
      ],
      "execution_count": 0,
      "outputs": [
        {
          "output_type": "display_data",
          "data": {
            "image/png": "[encoded data removed]",
            "text/plain": [
              "<Figure size 432x288 with 1 Axes>"
            ]
          },
          "metadata": {
            "tags": []
          }
        }
      ]
    },
    {
      "metadata": {
        "id": "uViydkt8QJHK",
        "colab_type": "code",
        "outputId": "c454dacb-23a7-4a8f-9771-5bf55a89de23",
        "colab": {
          "base_uri": "https://localhost:8080/",
          "height": 102
        }
      },
      "cell_type": "code",
      "source": [
        "#Hallando el resultado con el trapecio simple\n",
        "I = integrar_trapecio(0.5,1.5,funcion)\n",
        "print('El resultado con trapecio simple es: ', I)\n",
        "\n",
        "#x=np.array([0.5,0.75,1,1.25,1.5])\n",
        "x = np.linspace(0.5,1.5,351)\n",
        "\n",
        "I = trapecio_multiple(x, funcion)\n",
        "print('El resultado con trapecio multiple es: ', I)\n",
        "\n",
        "\n",
        "I = Simpson1_3(0.5,1.5,funcion)\n",
        "print('El resultado con Simpson 1/3 simple es: ', I)\n",
        "\n",
        "I = Simpson_1_3_multiple(0.5,1.5,60,funcion)\n",
        "print('El resultado con Simpson 1/3 multiple es: ', I)\n",
        "\n",
        "I = Simpson_3_8(0.5,1.5,3,funcion)\n",
        "print('El resultado con Simpson 3/8 y 3 segmentos es: ', I)"
      ],
      "execution_count": 0,
      "outputs": [
        {
          "output_type": "stream",
          "text": [
            "El resultado con trapecio simple es:  1379.0\n",
            "El resultado con trapecio multiple es:  517.2399451825692\n",
            "El resultado con Simpson 1/3 simple es:  590.3333333333333\n",
            "El resultado con Simpson 1/3 multiple es:  517.230314924902\n",
            "El resultado con Simpson 3/8 y 3 segmentos es:  552.3915815180887\n"
          ],
          "name": "stdout"
        }
      ]
    },
    {
      "metadata": {
        "id": "hKZz3EXaHURa",
        "colab_type": "code",
        "outputId": "27d7dab8-da9d-49e5-8b4b-bc4721b8e55f",
        "colab": {
          "base_uri": "https://localhost:8080/",
          "height": 153
        }
      },
      "cell_type": "code",
      "source": [
        "help(Simpson_1_3_multiple)"
      ],
      "execution_count": 0,
      "outputs": [
        {
          "output_type": "stream",
          "text": [
            "Help on function Simpson_1_3_multiple in module __main__:\n",
            "\n",
            "Simpson_1_3_multiple(a, b, n, funcion)\n",
            "    a: límite inferior de la integral\n",
            "    b: límite superior de la integral\n",
            "    n: número de segmentos\n",
            "    f es la función que se requiere integrar\n",
            "\n"
          ],
          "name": "stdout"
        }
      ]
    }
  ]
}