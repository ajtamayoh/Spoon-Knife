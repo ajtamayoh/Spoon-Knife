{
  "nbformat": 4,
  "nbformat_minor": 0,
  "metadata": {
    "colab": {
      "name": "Regression.ipynb",
      "version": "0.3.2",
      "provenance": [],
      "include_colab_link": true
    },
    "kernelspec": {
      "name": "python3",
      "display_name": "Python 3"
    }
  },
  "cells": [
    {
      "cell_type": "markdown",
      "metadata": {
        "id": "view-in-github",
        "colab_type": "text"
      },
      "source": [
        "<a href=\"https://colab.research.google.com/github/ajtamayoh/Spoon-Knife/blob/master/Regression.ipynb\" target=\"_parent\"><img src=\"https://colab.research.google.com/assets/colab-badge.svg\" alt=\"Open In Colab\"/></a>"
      ]
    },
    {
      "metadata": {
        "id": "l5CFqUcgagO_",
        "colab_type": "text"
      },
      "cell_type": "markdown",
      "source": [
        "# **Regresi**ón (métodos numéricos)\n",
        "\n",
        "Regresión por mínimos cuadrados\n",
        "\n",
        "Regresión lineal\n",
        "\n",
        "Ajustar una línea recta a un conjunto de puntos $(x_1,y_1), (x_2,y_2),...,(x_n,y_n)$\n",
        "\n",
        "Modelo:\n",
        "\n",
        "$ y = a_0+a_1x+e $\n",
        "\n",
        "Donde $e$ es el error o diferencia entre el modelo y las observaciones:\n",
        "\n",
        "$ e = y-a_0+a_1x $\n",
        "\n",
        "Así el error o residuo es la diferencia entre el valor verdadero y el valor aproximado por el modelo.\n",
        "\n",
        "# Criterio para un mejor ajuste\n",
        "\n",
        "Una estrategia para ajustar una mejor línea a través de los datos será minimizar la suma de los errores residuales de todos los datos disponibles, como sigue:\n",
        "\n",
        "$ S_r = \\sum_{i=1}^{n}e_i^2 = \\sum_{i=1}^{n}(y_{i-teorica}-y_{i-predicha})^2 =\\sum_{i=1}^{n}(y_i-a_0-a_1x_i)^2 $\n",
        "\n",
        "Este criterio tiene varias ventajas, entre ellas que permite obtener una única línea recta para un conjunto de puntos dado.\n",
        "\n",
        "# Ajuste de una línea recta por mínimos cuadrados\n",
        "\n",
        "Como se requiere minimizar $S_r$, se debe derivar con respecto a $a_0 y a_1$ e igualar a cero.\n",
        "\n",
        "Resolviendo de manera simultánea el sistema de dos ecuaciones con dos incógnitas que surge del paso anterior, se llega a qué:\n",
        "\n",
        "$ a_1 = \\frac{n\\sum x_iy_i-\\sum x_i\\sum y_i}{n\\sum x_i^2-(\\sum x_i)^2} $\n",
        "\n",
        "$a_0=\\bar{y}-a_1\\bar{x}$\n",
        "\n",
        "Donde $\\bar{y}$ y $\\bar{x}$ son las medias de $y$ y $x$ respectivamente."
      ]
    },
    {
      "metadata": {
        "id": "4TNxLHI61diz",
        "colab_type": "text"
      },
      "cell_type": "markdown",
      "source": [
        "# Ejemplo\n",
        "\n",
        "Encuentre la recta que mejor se ajuste a los datos de la siguiente tabla.\n",
        "\n",
        "<table>\n",
        "  <tr>\n",
        "   <td>xi</td><td>yi</td> \n",
        "     <tr>\n",
        "   <td>1</td><td>0.5</td> \n",
        "   <tr>\n",
        "   <td>2</td><td>2.5</td> \n",
        "   <tr>\n",
        "   <td>3</td><td>2.0</td> \n",
        "   <tr>\n",
        "   <td>4</td><td>4.0</td> \n",
        "   <tr>\n",
        "   <td>5</td><td>3.5</td> \n",
        "   <tr>\n",
        "   <td>6</td><td>6.0</td> \n",
        "   <tr>\n",
        "   <td>7</td><td>5.5</td> \n",
        "   \n",
        "     Debemos encontrar los valores de $a_0$ y $a_1$, graficar los puntos y la recta de ajuste.\n",
        "     "
      ]
    },
    {
      "metadata": {
        "id": "GZs8xEZ6Z_H6",
        "colab_type": "code",
        "colab": {}
      },
      "cell_type": "code",
      "source": [
        "import numpy as np\n",
        "import matplotlib.pyplot as plt\n",
        "\n",
        "def minimos_cuadrados(listaX, listaY):\n",
        "  \n",
        "  n = len(listaX)\n",
        "  \n",
        "  x_por_y = 0\n",
        "  x_cuadrado = 0\n",
        "  xs = 0\n",
        "  ys = 0\n",
        "  x_media = np.mean(listaX)\n",
        "  y_media = np.mean(listaY)\n",
        "  \n",
        "  St = 0\n",
        "  \n",
        "  for x, y in zip(listaX, listaY):\n",
        "    \n",
        "    x_por_y += x*y\n",
        "    x_cuadrado += x**2\n",
        "    xs += x\n",
        "    ys += y  \n",
        "    St += (y-y_media)**2\n",
        "  \n",
        "  #print(n,x_por_y,x_cuadrado,xs,ys,x_media,y_media)\n",
        "  \n",
        "  \n",
        "  a1 = ((n*x_por_y)-(xs*ys))/((n*x_cuadrado)-(xs**2))\n",
        "  a0 = y_media - (a1*x_media)\n",
        "  \n",
        "  Sr = 0\n",
        "  for x,y in zip(listaX,listaY):\n",
        "    Sr += (y-(a0+(a1*x)))**2\n",
        "  \n",
        "  #print(St, Sr)\n",
        "  \n",
        "  coefDet = (St-Sr)/St\n",
        "  coefCorr = np.sqrt(coefDet)\n",
        "  \n",
        "  return a0, a1, coefDet, coefCorr"
      ],
      "execution_count": 0,
      "outputs": []
    },
    {
      "metadata": {
        "id": "LgVogQX24Yco",
        "colab_type": "code",
        "outputId": "ceb0db0f-b0d8-40f0-dc81-4c5a549dd3b8",
        "colab": {
          "base_uri": "https://localhost:8080/",
          "height": 400
        }
      },
      "cell_type": "code",
      "source": [
        "#Ingrese la lista de puntos\n",
        "'''\n",
        "n= int(input('Ingrese la cantidad de puntos con que va a trabajar'))\n",
        "X = []\n",
        "Y = []\n",
        "for i in range(n):\n",
        "  x = input('Ingrese el valor de x')\n",
        "  y = input('Ingrese el valor de y')\n",
        "  X.append(x)\n",
        "  Y.append(y)\n",
        "\n",
        "'''\n",
        "\n",
        "X = [1,2,3,4,5,6,7,8]\n",
        "Y = [0.5,2.5,2,4,3.5,6,5.5,6]\n",
        "X = np.asarray(X)\n",
        "Y = np.asarray(Y)\n",
        "\n",
        "a0, a1, coefDeter, coefCorre = minimos_cuadrados(X,Y)\n",
        "print('La recta estimada es: y = ', a0, ' + ', a1, 'x')\n",
        "\n",
        "puntos = np.linspace(0,7,10)\n",
        "f = a0 + a1*puntos\n",
        "\n",
        "plt.scatter(X,Y)\n",
        "plt.plot(puntos, f, 'b')\n",
        "plt.show()\n",
        "\n",
        "#El coeficiente de determinación toma valores entre 0 y 1, siendo 1 el mejor indicativo de ajuste\n",
        "print('Coeficiente de determinación: ', coefDeter)\n",
        "#El coeficiente de  correlación lineal de Pearson toma valores entre -1 y 1\n",
        "print('Coeficiente de correlación de Pearson: ', coefCorre)"
      ],
      "execution_count": 0,
      "outputs": [
        {
          "output_type": "stream",
          "text": [
            "La recta estimada es: y =  0.2678571428571428  +  0.7738095238095238 x\n"
          ],
          "name": "stdout"
        },
        {
          "output_type": "display_data",
          "data": {
            "image/png": "[encoded data removed]",
            "text/plain": [
              "<Figure size 576x396 with 1 Axes>"
            ]
          },
          "metadata": {
            "tags": []
          }
        },
        {
          "output_type": "stream",
          "text": [
            "Coeficiente de determinación:  0.8824143692564745\n",
            "Coeficiente de correlación de Pearson:  0.93936913365113\n"
          ],
          "name": "stdout"
        }
      ]
    },
    {
      "metadata": {
        "id": "J0-m-S5T80e7",
        "colab_type": "text"
      },
      "cell_type": "markdown",
      "source": [
        "La regresión lineal por mínimos cuadrados ordinarios es una excelente herramienta, pero tiene la limitación de estimar una función lineal y no siempre es este el comportamiento de los datos."
      ]
    },
    {
      "metadata": {
        "id": "OUaDL8KKI-kO",
        "colab_type": "text"
      },
      "cell_type": "markdown",
      "source": [
        "# ¿Qué tan bueno es el ajuste logrado?\n",
        "\n",
        "## Coeficiente de determinación y coeficiente de correlación\n",
        "\n"
      ]
    },
    {
      "metadata": {
        "id": "rk2hNu-59AwG",
        "colab_type": "text"
      },
      "cell_type": "markdown",
      "source": [
        "# Regresión Polinomial\n",
        "\n"
      ]
    },
    {
      "metadata": {
        "id": "ZYCpvKvAHf1i",
        "colab_type": "text"
      },
      "cell_type": "markdown",
      "source": [
        "El procedimiento de mínimos cuadrados se puede extender facilmente al ajuste de datos con un polinomio de grado superior. Por ejemplo, para un polinomio de segundo grado:\n",
        "\n",
        "$y = a_0+a_1x+a_2x2+e$\n",
        "\n",
        "De aquí que:\n",
        "\n",
        "$S_r = \\sum_{i=1}^n(y_i-a_0-a_1x_i-a_2x_i^2)^2$\n",
        "\n",
        "Para minimizar este error, se debe derivar con respecto a $a_0, a_1 y a_2$ y luego igualar a  cero. De allí surge un sistema de 3 ecuaciones y 3 incógnitas.\n",
        "\n",
        "Desarrollado en clase."
      ]
    },
    {
      "metadata": {
        "id": "U9KobsJqTYeU",
        "colab_type": "text"
      },
      "cell_type": "markdown",
      "source": [
        "# Ejercicio\n",
        "\n",
        "Con el siguiente conjunto de puntos ajustar un polinomio de segundo grado usando regresión polinomial. Graficar los puntos, graficar la curva de ajuste y calcular el coeficiente de determinación y el coeficiente de regresión e interpretarlos."
      ]
    },
    {
      "metadata": {
        "id": "GavN07kSRvQy",
        "colab_type": "code",
        "colab": {}
      },
      "cell_type": "code",
      "source": [
        "#Datos\n",
        "X = [0,1,2,3,4,5]\n",
        "Y = [2.1,7.7,13.6,27.2,40.9,61.1]"
      ],
      "execution_count": 0,
      "outputs": []
    },
    {
      "metadata": {
        "id": "e6h2Q2NJEnIt",
        "colab_type": "code",
        "outputId": "700c251d-0a60-4a44-b9e2-d4307e019b05",
        "colab": {
          "base_uri": "https://localhost:8080/",
          "height": 34
        }
      },
      "cell_type": "code",
      "source": [
        "#Para resolver sistemas de ecuaciones lineales con numpy\n",
        "from numpy.linalg import solve\n",
        "\n",
        "Matriz = np.array([[6,15,55],[15,55,225],[55,225,979]])\n",
        "Depen = np.array([152.6,585.6,2488.8])\n",
        "\n",
        "coef = solve(Matriz,Depen)\n",
        "print(coef)\n"
      ],
      "execution_count": 0,
      "outputs": [
        {
          "output_type": "stream",
          "text": [
            "[2.47857143 2.35928571 1.86071429]\n"
          ],
          "name": "stdout"
        }
      ]
    },
    {
      "metadata": {
        "id": "z_Ztym0A5FSL",
        "colab_type": "code",
        "outputId": "03a66618-e338-4779-9d52-34fe9eb8754d",
        "colab": {
          "base_uri": "https://localhost:8080/",
          "height": 364
        }
      },
      "cell_type": "code",
      "source": [
        "#Datos\n",
        "X = [0,1,2,3,4,5]\n",
        "Y = [2.1,7.7,13.6,27.2,40.9,61.1]\n",
        "\n",
        "pts = np.linspace(0,6,10)\n",
        "f2 = coef[0] + coef[1]*pts + coef[2]*(pts**2)\n",
        "\n",
        "\n",
        "plt.scatter(X,Y)\n",
        "plt.plot(pts,f2,'r')\n",
        "plt.show()\n",
        "\n",
        "Sr = 3.74657\n",
        "St = 2513.39\n",
        "\n",
        "R2 = (St-Sr)/St\n",
        "print('El ajuste del modelo es: ', R2)"
      ],
      "execution_count": 0,
      "outputs": [
        {
          "output_type": "display_data",
          "data": {
            "image/png": "[encoded data removed]",
            "text/plain": [
              "<Figure size 576x396 with 1 Axes>"
            ]
          },
          "metadata": {
            "tags": []
          }
        },
        {
          "output_type": "stream",
          "text": [
            "El ajuste del modelo es:  0.998509355889854\n"
          ],
          "name": "stdout"
        }
      ]
    },
    {
      "metadata": {
        "id": "E-AJ5Mx6T9Xs",
        "colab_type": "text"
      },
      "cell_type": "markdown",
      "source": [
        "# Referencia\n",
        "\n",
        "Métodos numéricos para ingenieros. Steven C. Chapra, Raymond P. Canale. McGraw Hill. Quinta Edición."
      ]
    }
  ]
}